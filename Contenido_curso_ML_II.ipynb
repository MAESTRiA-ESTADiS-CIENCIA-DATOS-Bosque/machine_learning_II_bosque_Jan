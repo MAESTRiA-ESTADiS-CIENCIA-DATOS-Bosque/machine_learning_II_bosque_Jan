{
 "cells": [
  {
   "attachments": {
    "scikitlearn.png": {
     "image/png": "[encoded data removed]"
    }
   },
   "cell_type": "markdown",
   "metadata": {
    "id": "Stb3HDJcPfmX"
   },
   "source": [
    "# **BIENVENIDOS AL CURSO DE:  Machine Learning II**\n",
    "\n",
    "![scikitlearn.png](attachment:scikitlearn.png)"
   ]
  },
  {
   "cell_type": "markdown",
   "metadata": {
    "id": "XYpxdBcOPVZT"
   },
   "source": [
    "## Resumen\n",
    "Mi nombre es **Hector Javier Hortua** \n",
    "\n",
    "Email: hector.hortuao@gmail.com\n",
    "\n",
    "GitHub: *JavierOrjuela*\n",
    "\n",
    "\n",
    "## *Objetivo del Curso*:\n",
    "Implementar modelos de Machine Learning con Scikit-Learn y Python, desde el procesamiento\n",
    "de datos,  entrenamiento, evaluación y finalmente la predicción.\n",
    "\n",
    "## *Justificación:*\n",
    "Scikit-Learn es una biblioteca de código abierto y una de las APIs más utilizadas en\n",
    "ML en entornos académicos e industriales. Scikit-Learn marca un cambio radical en el\n",
    "desarrollo del software, enfocado en la facilidad de uso para todos los usuarios,\n",
    "desde principiantes hasta niveles avanzados. En este curso  se muestra\n",
    "el uso de este software en varias tareas  de Machine Learning. \n",
    "Finalmente, se discutirá varios métodos\n",
    "avanzados  y herramientas de software usadas en Machine Learning los cuales motivarán y darán al estudiante una\n",
    "amplia visión del potencial de python en entornos académicos e industriales.\n",
    "\n",
    "\n",
    "### *REQUISITOS ACADÉMICOS*:\n",
    "Personas con conocimientos en programación Python y aspectos básicos de ML. Además, el estudiante debe tener\n",
    "ya sea una cuenta en Google para acceder a processos de GPU a través de Colab\n",
    "notebook, o un computador con los requerimientos básicos para la instalación de\n",
    "Scikit-Learn  (https://scikit-learn.org/stable/install.html).\n",
    "\n",
    "### BIBLIOGRAFÍA\n",
    " \n",
    "\n",
    "*   https://scikit-learn.org/stable/\n",
    "* Hands-On Machine Learning with Scikit-Learn, Keras, and TensorFlow: Concepts, Tools and Techniques to Build Intelligent Systems, Aurelien Geron,O&#39;Reilly Media; 2nd edición.\n",
    "* Pattern Recognition and Machine Learning, C.M.Bishop,Springer-Verlag New York, 2006.\n",
    "\n",
    "\n",
    "\n",
    "\n",
    "### Contenido\n",
    "*Primer Módulo: Revisión de conceptos de Machine Learning*\n",
    "- Revisión de conceptos de Machine Learning, Numpy, Pandas, Scikit-Learn\n",
    "- Preprocesamiento de datos, Pipelines, modelos y  Cross-Validation\n",
    "- Introducción a Orange data Mining\n",
    "- Ajuste de hiper-parámetros\n",
    "- Algoritmos de regresión: Lineal, multiple, polinómica, Optimización, regularización\n",
    "- Algoritmos de clasificación: Logística, SVM, arboles de decisión, Naive Bayes, Redes Neuronales, KNN\n",
    "- Algoritmos no supervisados: k-means, clustering, mixtura de Gaussianas\n",
    "\n",
    "*Segundo Módulo: Ensambles*\n",
    "- Ensambles tipo: Bagging, Bosting.\n",
    "- Reducción de dimensión: PCA,t-SNE,MDS\n",
    "- Introducción a MLflow\n",
    "\n",
    "\n",
    "\n",
    "### METODOLOGÍA:\n",
    "* Cada una de las clases tendrán una parte teórica donde se introduce los conceptos\n",
    "básicos y una parte práctica para poder aplicar los conocimientos adquiridos y conocer las implementaciones del software. \n",
    "* Se trabajará con datos relacionados con\n",
    "diferentes campos como medicina, e-commerce, astronomía, industria, academia, etc..\n",
    "\n",
    "EVALUACIÓN:\n",
    "\n",
    "* Ejercicios  65% (ambos modulos)\n",
    "* Elaboración de Caso Guiado  (avances del proyecto) 10%\n",
    "* Trabajo Final 25%\n",
    "\n"
   ]
  },
  {
   "cell_type": "markdown",
   "metadata": {
    "id": "En6VGmhNWP7W"
   },
   "source": [
    "## Herramientas:\n",
    "\n",
    "* Cuenta de gmail (Colab)\n",
    "* Github (desktop)\n",
    "* Laptop con python instalado (VS es ok. *Consejo: trabajar en un entorno conda*)\n"
   ]
  },
  {
   "cell_type": "markdown",
   "metadata": {
    "id": "jRNgIF1o9q_1"
   },
   "source": [
    "##Sondeo:\n",
    "\n",
    "* Que algoritmos  de Machine Learning han visto en sus cursos anteriores?\n",
    "* Tienen conocimientos de Deep Learning?\n",
    "* Que OS usan frecuentemente?\n",
    "* Cual es su nivel de programacion en Python?\n",
    "* Han usado GitHub?\n",
    "* Han usado Google-Colab?\n",
    "* Planean enfocarse al sector industrial o para desarrollo de investigacion?"
   ]
  },
  {
   "cell_type": "code",
   "execution_count": null,
   "metadata": {
    "id": "WnWEOVS3-y8A"
   },
   "outputs": [],
   "source": []
  }
 ],
 "metadata": {
  "colab": {
   "collapsed_sections": [],
   "name": "Contenido_curso_Helloworld_con_tf2.ipynb",
   "provenance": []
  },
  "kernelspec": {
   "display_name": "Python 3",
   "language": "python",
   "name": "python3"
  },
  "language_info": {
   "codemirror_mode": {
    "name": "ipython",
    "version": 3
   },
   "file_extension": ".py",
   "mimetype": "text/x-python",
   "name": "python",
   "nbconvert_exporter": "python",
   "pygments_lexer": "ipython3",
   "version": "3.8.5"
  }
 },
 "nbformat": 4,
 "nbformat_minor": 1
}
