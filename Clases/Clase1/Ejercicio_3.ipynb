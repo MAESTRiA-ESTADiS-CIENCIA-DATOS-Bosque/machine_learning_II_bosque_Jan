{
 "cells": [
  {
   "cell_type": "markdown",
   "metadata": {},
   "source": [
    "## Ejercicio 3. ajuste de hiperparametros y transformaciones.\n",
    "### Completar y subir en el repositorio"
   ]
  },
  {
   "cell_type": "code",
   "execution_count": 2,
   "metadata": {},
   "outputs": [],
   "source": [
    "## Librerias usadas\n",
    "import numpy as np\n",
    "import pandas as pd\n",
    "import matplotlib.pyplot as plt\n",
    "import seaborn as sns\n",
    "from sklearn.model_selection import train_test_split\n",
    "from sklearn import datasets\n",
    "\n",
    "## Instalar:  (doc: https://feature-engine.readthedocs.io/en/latest/index.html)\n",
    "#!pip install feature_engine\n",
    "\n"
   ]
  },
  {
   "cell_type": "code",
   "execution_count": null,
   "metadata": {},
   "outputs": [],
   "source": [
    "from sklearn.datasets import fetch_california_housing\n",
    "X, y = fetch_california_housing(return_X_y=True,as_frame=True)"
   ]
  },
  {
   "cell_type": "code",
   "execution_count": null,
   "metadata": {},
   "outputs": [],
   "source": [
    "X_train, X_test, y_train, y_test = train_test_split(#completar codigo"
   ]
  },
  {
   "cell_type": "code",
   "execution_count": null,
   "metadata": {},
   "outputs": [],
   "source": [
    "# Solo para efectos de visualizacion\n",
    "traindata= pd.concat([X_train, y_train],axis=1) \n",
    "traindata.head()"
   ]
  },
  {
   "cell_type": "code",
   "execution_count": null,
   "metadata": {},
   "outputs": [],
   "source": [
    "##Pair plot\n",
    "sns.pairplot(data=traindata, hue=\"MedHouseVal\", palette=\"viridis\")"
   ]
  },
  {
   "cell_type": "code",
   "execution_count": null,
   "metadata": {},
   "outputs": [],
   "source": [
    "##Localizacion espacial en terminos del  valor medio del precio de las casas\n",
    "sns.scatterplot(data=traindata, x=\"Longitude\", y=\"Latitude\",\n",
    "                size=\"MedHouseVal\", hue=\"MedHouseVal\",\n",
    "                palette=\"viridis\", alpha=0.5)\n",
    "plt.legend(title=\"MedHouseVal\", bbox_to_anchor=(1.05, 0.95),\n",
    "           loc=\"upper left\")\n",
    "_ = plt.title(\"Localizacion espacial en terminos del \\n valor medio del precio de las casas\")"
   ]
  },
  {
   "cell_type": "code",
   "execution_count": null,
   "metadata": {},
   "outputs": [],
   "source": [
    "# Matrix de confusion\n",
    "corr_mat=np.corrcoef(traindata,rowvar=False)\n",
    "corr_df=pd.DataFrame(#completar codigo\n",
    "sns.heatmap(#completar codigo\n",
    "            linewidths=1,\n",
    "            cmap='plasma', \n",
    "            fmt=\".2f\",annot=True)"
   ]
  },
  {
   "cell_type": "code",
   "execution_count": null,
   "metadata": {},
   "outputs": [],
   "source": [
    "from sklearn.preprocessing import StandardScaler,MinMaxScaler,OneHotEncoder\n",
    "from sklearn.model_selection import RandomizedSearchCV,GridSearchCV\n",
    "from sklearn.linear_model import Ridge\n",
    "from sklearn.pipeline import make_pipeline\n",
    "from sklearn.model_selection import cross_validate\n",
    "\n",
    "## Usar ridSearchCV para ajustar hiperparametros usando Ridge como estimador y escalando todos las caracteristicas con z-score\n",
    "\n",
    "pipeline = make_pipeline(\n",
    "              #completar codigo)\n",
    "\n",
    "\n",
    "#Definir GridSearchC con r2 como scoring  usando 20-folds\n",
    "\n",
    "params = [{'ridge__alpha': np.logspace(-3, 5, num=30)}]\n",
    "clf = GridSearchCV(##completar codigo\n",
    "\n",
    "## Entrenar el modelo\n",
    "clf.fit(X_train, ##completar codigo)"
   ]
  },
  {
   "cell_type": "code",
   "execution_count": null,
   "metadata": {},
   "outputs": [],
   "source": [
    "### Imprimir: mejor parametro de ajuste, el mejor r2 obtenido, y el score usando el test dataset\n",
    "print(clf.best_params_,clf.best_score_, clf.score(X_test,y_test))"
   ]
  },
  {
   "attachments": {},
   "cell_type": "markdown",
   "metadata": {},
   "source": [
    "- Realizar el mismo procedimiento usando RandomizedSearchCV con 300 iteraciones,cv=5 y scoring = r2. \n",
    "- Comparar ambas busquedas de ajustes y determinar cual es mejor para este caso. \n",
    "- Escriba en una celda de este notebook (markdown) que se entiende por:  RandomizedSearchCV, GridSearchCV."
   ]
  },
  {
   "cell_type": "code",
   "execution_count": null,
   "metadata": {},
   "outputs": [],
   "source": [
    "## Usando fuerza bruta a traves de RidgeCV\n",
    "from sklearn.linear_model import RidgeCV\n",
    "\n",
    "\n",
    "ridge_pipe2 = make_pipeline(StandardScaler(),\n",
    "                            RidgeCV(alphas=np.logspace(-3, 1, num=30), scoring = 'r2'))\n",
    "\n",
    "ridge_pipe2.fit(X_train, y_train)\n",
    "ridge_pipe2.score(X_test,y_test)"
   ]
  },
  {
   "attachments": {},
   "cell_type": "markdown",
   "metadata": {},
   "source": [
    "Describa los resultados obtenidos RidgeCV y comparelos con los metodos previos. Que puede observar de esto?"
   ]
  },
  {
   "attachments": {},
   "cell_type": "markdown",
   "metadata": {},
   "source": [
    "### Pipelines usando feature_engine."
   ]
  },
  {
   "cell_type": "code",
   "execution_count": null,
   "metadata": {},
   "outputs": [],
   "source": [
    "from feature_engine.discretisation import EqualWidthDiscretiser\n",
    "from sklearn.compose import ColumnTransformer"
   ]
  },
  {
   "cell_type": "code",
   "execution_count": null,
   "metadata": {},
   "outputs": [],
   "source": [
    "geo_features_num = [\"Longitude\",\"Latitude\"]\n",
    "numeric_features =[\"MedInc\"\t,\"HouseAge\",\t\"AveRooms\"\t,\"AveBedrms\",\t\"Population\",\t\"AveOccup\"]"
   ]
  },
  {
   "attachments": {},
   "cell_type": "markdown",
   "metadata": {},
   "source": [
    "Cree dos pipelines. \n",
    "- 1)numeric_trans toma las columnas numeric_features y las normaliza. \n",
    "- 2)numeric_bins_trans toma las columnas geo_features_num y las dicretiza en 10 bins y luego aplica One Hot labels.\n",
    "- 3) Use Ridge como estimador"
   ]
  },
  {
   "cell_type": "code",
   "execution_count": null,
   "metadata": {},
   "outputs": [],
   "source": [
    "numeric_trans=make_pipeline(##completar codigo\n",
    "\n",
    "numeric_bins_trans=make_pipeline(EqualWidthDiscretiser(bins=10),\n",
    "##completar codigo)"
   ]
  },
  {
   "cell_type": "code",
   "execution_count": null,
   "metadata": {},
   "outputs": [],
   "source": [
    "#preprocesamiento\n",
    "preprocessor = ColumnTransformer(\n",
    "    ##completar codigo\n",
    "])\n",
    "\n",
    "pipeline = make_pipeline( ##completar codigo\n"
   ]
  },
  {
   "cell_type": "code",
   "execution_count": null,
   "metadata": {},
   "outputs": [],
   "source": [
    "##Use GridSearchCV para encontrar el mejor parametro con r2 como score\n",
    "params = [{'ridge__alpha': np.logspace(-3, 1, num=30)}]\n",
    "clf = GridSearchCV( ##completar codigo\n",
    "clf.fit(##completar codigo\n",
    "\n",
    "#Evalue el modelo usando r2\n",
    "clf.score(##completar codigo"
   ]
  },
  {
   "cell_type": "code",
   "execution_count": null,
   "metadata": {},
   "outputs": [],
   "source": [
    "## visualizar la transformacion del preprocesamiento\n",
    "pd.DataFrame(preprocessor.fit_transform(X_train)).describe()"
   ]
  },
  {
   "cell_type": "code",
   "execution_count": null,
   "metadata": {},
   "outputs": [],
   "source": [
    "## visualizar los datos de entrada\n",
    "X_train"
   ]
  },
  {
   "attachments": {},
   "cell_type": "markdown",
   "metadata": {},
   "source": [
    "- Compare las ultimas dos celdas. Se realiza el preprocesamiento de los datos? Describa esto en detalle.\n",
    "- Dado el r2 de este metodo, se encontro alguna mejora del score?  \n",
    "- Use tres Feature-engine’s Transformers del paquete feature_engine e implemente de nuevo el pipeline. Use la exploracion de datos presentada al principio de este notebook para determinar que transformer debe usar. Explique esto en detalle. "
   ]
  },
  {
   "cell_type": "code",
   "execution_count": null,
   "metadata": {},
   "outputs": [],
   "source": []
  }
 ],
 "metadata": {
  "kernelspec": {
   "display_name": "env3.10",
   "language": "python",
   "name": "python3"
  },
  "language_info": {
   "codemirror_mode": {
    "name": "ipython",
    "version": 3
   },
   "file_extension": ".py",
   "mimetype": "text/x-python",
   "name": "python",
   "nbconvert_exporter": "python",
   "pygments_lexer": "ipython3",
   "version": "3.8.5"
  },
  "orig_nbformat": 4,
  "vscode": {
   "interpreter": {
    "hash": "da7aeb2df53810949243a6c1dd59edf6e0646a6a5d0745c98ff8c60385d0449b"
   }
  }
 },
 "nbformat": 4,
 "nbformat_minor": 2
}
