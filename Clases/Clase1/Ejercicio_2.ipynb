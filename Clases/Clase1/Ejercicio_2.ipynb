{
 "cells": [
  {
   "attachments": {},
   "cell_type": "markdown",
   "metadata": {},
   "source": [
    "## Ejercicio 2. Analisis de Outliers.\n",
    "### Completar y subir en el repositorio"
   ]
  },
  {
   "cell_type": "code",
   "execution_count": 3,
   "metadata": {},
   "outputs": [],
   "source": [
    "## Librerias usadas\n",
    "import numpy as np\n",
    "import pandas as pd\n",
    "import matplotlib.pyplot as plt\n",
    "import seaborn as sns\n",
    "\n",
    "from sklearn import datasets"
   ]
  },
  {
   "cell_type": "code",
   "execution_count": null,
   "metadata": {},
   "outputs": [],
   "source": [
    "## Generacion de datos.\n",
    "N_SAMPLES = 800\n",
    "N_OUTLIERS = 50\n",
    "\n",
    "X, y, coef = datasets.make_regression(\n",
    "    n_samples=N_SAMPLES, \n",
    "    n_features=3, \n",
    "    bias=3.5,\n",
    "    n_targets=1,\n",
    "    n_informative=2, \n",
    "    noise=10, \n",
    "    coef=True, \n",
    "    random_state=42\n",
    ")\n",
    "\n",
    "print(coef)\n",
    "## Creacion de outliers               \n",
    "np.random.seed(42)\n",
    "X[:N_OUTLIERS,1:2] = 10 + 0.75 * np.random.normal(size=(N_OUTLIERS, 1))\n",
    "y[:N_OUTLIERS] = -15 + 20 * np.random.normal(size=N_OUTLIERS)\n",
    "df=pd.DataFrame({'x0':X[:,0], 'x1':X[:,1],'x2':X[:,2],'target':y})\n",
    "\n",
    "\n",
    "\n"
   ]
  },
  {
   "cell_type": "code",
   "execution_count": null,
   "metadata": {},
   "outputs": [],
   "source": [
    "## Generar graficos de los datos: x0 vs target; x1 vs target; x2 vs target: \n",
    "\n",
    "df.plot.scatter( #completar codigo) \n",
    "df.plot.scatter( #completar codigo) \n",
    "df.plot.scatter( #completar codigo) "
   ]
  },
  {
   "cell_type": "code",
   "execution_count": null,
   "metadata": {},
   "outputs": [],
   "source": [
    "from sklearn.model_selection import #completar codigo\n",
    "X1=df[[\"x0\",\"x1\",\"x2\"]]\n",
    "y1=df['target']\n",
    "## train-test: 80%-20%, fiar semilla: \"random state\"\n",
    "X_train, X_test, y_train,y_test =train_test_split(#completar codigo)"
   ]
  },
  {
   "cell_type": "code",
   "execution_count": null,
   "metadata": {},
   "outputs": [],
   "source": [
    "#combinar datos de entrenamiento. Solo para propositos de visualizacion!!\n",
    "traindata= pd.concat([X_train, y_train],axis=1) \n",
    "traindata.head()"
   ]
  },
  {
   "cell_type": "code",
   "execution_count": null,
   "metadata": {},
   "outputs": [],
   "source": [
    "## Visualizar grafico de triangulo usando PairGrid en seaborn:\n",
    "\n",
    "g= sns.PairGrid(traindata, corner=True)\n",
    "g.map_lower(# usar kdeplot)\n",
    "g.map_lower(#  usar scatterplot)\n",
    "g.map_diag(# usar histplot y kde)"
   ]
  },
  {
   "cell_type": "code",
   "execution_count": null,
   "metadata": {},
   "outputs": [],
   "source": [
    "## Calcular la correlacion en traindata. Use pearson’ y ‘kendall’. Finalmente ordene las correlaciones de mayor a menor\n",
    "\n",
    "corr_mat = traindata.corr(# complete codigo\n",
    "\n",
    "sorted_mat = corr_mat.#complete codigo\n",
    "print(sorted_mat)"
   ]
  },
  {
   "attachments": {},
   "cell_type": "markdown",
   "metadata": {},
   "source": [
    "En base a las graficas y correlaciones anteriormente ilustradas, \n",
    "determine cual o cuales caracteristicas son determinantes para predecir el target.\n",
    "  "
   ]
  },
  {
   "cell_type": "code",
   "execution_count": null,
   "metadata": {},
   "outputs": [],
   "source": [
    "X1=df[# complete el codigo con las caracteristicas determinantes para la prediccion\n",
    "y1=df['target']\n",
    "X_train, X_test, y_train,y_test =train_test_split(X1,y1,test_size=0.2,random_state=123)"
   ]
  },
  {
   "cell_type": "code",
   "execution_count": null,
   "metadata": {},
   "outputs": [],
   "source": [
    "from sklearn.preprocessing import StandardScaler, MinMaxScaler\n",
    "\n",
    "# escalar las caracteristicas con Z-score\n",
    "scaler = # completar codigo\n",
    "scaler.fit(# completar codigo\n",
    "X_train = scaler.transform(# completar codigo\n",
    "X_test = scaler.transform(# completar codigo"
   ]
  },
  {
   "cell_type": "code",
   "execution_count": null,
   "metadata": {},
   "outputs": [],
   "source": [
    "from sklearn.linear_model import LinearRegression\n",
    "LR = LinearRegression()\n",
    "LR.fit(# completar codigo\n",
    "prediccion= LR.predict(# completar codigo"
   ]
  },
  {
   "cell_type": "code",
   "execution_count": null,
   "metadata": {},
   "outputs": [],
   "source": [
    "## Analisis de resultados\n",
    "\n",
    "from sklearn.metrics import r2_score,mean_absolute_error,mean_squared_error\n",
    "\n",
    "r2_score(# completar codigo\n",
    "mean_squared_error(# completar codigo\n",
    "mean_absolute_error(# completar codigo\n",
    "\n",
    "\n",
    "print(# imprimir resultados...\n",
    "\n",
    "\n",
    "\n",
    "plt.scatter(X_test,y_test, color='red',marker='.')\n",
    "plt.plot(X_test, prediccion)"
   ]
  },
  {
   "cell_type": "code",
   "execution_count": null,
   "metadata": {},
   "outputs": [],
   "source": [
    "from sklearn.linear_model import HuberRegressor\n",
    "from sklearn.linear_model import RANSACRegressor\n",
    "from sklearn.linear_model import TheilSenRegressor\n",
    "\n",
    "### Usar el mismo procedimiento usando el estimador: HuberRegressor, RANSACRegressor, TheilSenRegressor"
   ]
  },
  {
   "attachments": {},
   "cell_type": "markdown",
   "metadata": {},
   "source": [
    "En una casilla de este notebook (markdown), comente acerca de los estimadores HuberRegressor, \n",
    "RANSACRegressor, TheilSenRegressor. De los Estimadores usados en este notebook, describa cuales\n",
    "son los mas fuertes con respecto a los outliers."
   ]
  },
  {
   "cell_type": "markdown",
   "metadata": {},
   "source": []
  }
 ],
 "metadata": {
  "kernelspec": {
   "display_name": "env3.10",
   "language": "python",
   "name": "python3"
  },
  "language_info": {
   "codemirror_mode": {
    "name": "ipython",
    "version": 3
   },
   "file_extension": ".py",
   "mimetype": "text/x-python",
   "name": "python",
   "nbconvert_exporter": "python",
   "pygments_lexer": "ipython3",
   "version": "3.8.5"
  },
  "orig_nbformat": 4,
  "vscode": {
   "interpreter": {
    "hash": "da7aeb2df53810949243a6c1dd59edf6e0646a6a5d0745c98ff8c60385d0449b"
   }
  }
 },
 "nbformat": 4,
 "nbformat_minor": 2
}
