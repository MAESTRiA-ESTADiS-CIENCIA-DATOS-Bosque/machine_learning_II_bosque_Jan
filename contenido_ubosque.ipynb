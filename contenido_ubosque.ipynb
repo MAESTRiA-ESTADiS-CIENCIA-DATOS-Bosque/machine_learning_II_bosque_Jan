{
 "cells": [
  {
   "attachments": {},
   "cell_type": "markdown",
   "metadata": {},
   "source": [
    "# **BIENVENIDOS AL CURSO DE:  Deep Learning II**\n",
    "\n",
    "![tf.png](tf.png)"
   ]
  },
  {
   "attachments": {},
   "cell_type": "markdown",
   "metadata": {},
   "source": [
    "## Resumen\n",
    "Mi nombre es **Hector Javier Hortua** \n",
    "\n",
    "Email: hector.hortuao@gmail.com\n",
    "\n",
    "GitHub: *JavierOrjuela*\n",
    "\n",
    "\n",
    "## *Objetivo del Curso*:\n",
    "Expandir las habilidades adquiridas en el uso de Deep Learning I a traves de la\n",
    "construccion de modelos de Deep Learning enfocados en Vision por computador,\n",
    "audio y modelos generativos.\n",
    "\n",
    "## *Justificación:*\n",
    "Tensorflow es una biblioteca de código abierto y una de las APIs más utilizadas en\n",
    "Deep Learning en entornos industriales. Tensorflow 2 marca un cambio radical en el\n",
    "desarrollo del software, enfocado en la facilidad de uso para todos los usuarios,\n",
    "desde principiantes hasta niveles avanzados. Este curso comprende escenarios\n",
    "avanzados de visión por computador y automatic Speech Recognition (ASR).\n",
    "También se introduce los conceptos detrás del uso de modelos de Deep Learning en\n",
    "dispositivos móviles. Finalmente, se explorarán modelos generativos tales como\n",
    "auto-encoders, VAE, Flujos normalizados, GANs y de difusión.\n",
    "\n",
    "\n",
    "### *REQUISITOS ACADÉMICOS*:\n",
    "Haber aprobado la asignatura Deep Learning I. Tener conocimientos en programación Python y conocimientos básicos en\n",
    "álgebra lineal. Además, el estudiante debe tener una cuenta en Google para acceder a\n",
    "processos de GPU a través de Colab notebook (o acceso a GCP), o un computador con\n",
    "los requerimientos básicos para la instalación de TensorFlow con o sin GPU\n",
    "(https://www.tensorflow.org/install).\n",
    "\n",
    "### BIBLIOGRAFÍA\n",
    " \n",
    "\n",
    "* https://www.tensorflow.org/\n",
    "* http://tinyml.seas.harvard.edu/4D/\n",
    "* Deep Learning with TensorFlow 2 and Keras: Regression, ConvNets, GANs, RNNs, NLP,\n",
    "and more with TensorFlow 2 and the Keras API, Antonio Gulli, Amita Kapoor,Sujit Pal 2nd\n",
    "Edition,Packt Publishing.\n",
    "* Hands-On Machine Learning with Scikit-Learn, Keras, and TensorFlow: Concepts, Tools,\n",
    "and Techniques to Build Intelligent Systems, Aurelien Geron,O&#39;Reilly Media; 2nd edición.\n",
    "* Advanced Deep Learning with TensorFlow 2 and Keras,Rowel Atienza, Packt Publishing.\n",
    "* Pattern Recognition and Machine Learning, C.M.Bishop,Springer-Verlag New York, 2006."
   ]
  },
  {
   "cell_type": "markdown",
   "metadata": {},
   "source": [
    "### Contenido\n",
    "*Primer Módulo: Deep Learning y aplicaciones*\n",
    "- Nivel alto API de Keras y niveles bajos de Personalización\n",
    "- Transfer Learning\n",
    "- Aplicaciones: Object detection\n",
    "- Introducción a Tensorflow Lite y uso de Edge Impulse\n",
    "- Aplicaciones: Speech Recognition, FOMO  \n",
    "\n",
    "*Segundo Módulo: Modelos generativos*\n",
    "- Introducción a TensorFlow-probability\n",
    "- Auto-encoders, VAE\n",
    "- Flujos normalizados\n",
    "- GANs\n",
    "- Modelos proabilisticos de difusión\n",
    "\n",
    "\n",
    "\n",
    "### METODOLOGÍA:\n",
    "* Cada una de las clases tendrán una parte teórica donde se introduce los conceptos\n",
    "básicos y una parte práctica para poder aplicar los conocimientos adquiridos y conocer\n",
    "las implementaciones del software. Se trabajará con imágenes relacionadas con\n",
    "diferentes campos como medicina, e-commerce, industria, etc.\n",
    "\n",
    "EVALUACIÓN:\n",
    "\n",
    "* Ejercicios  65% (ambos modulos)\n",
    "* Elaboración de Caso Guiado  (avances del proyecto) 10%\n",
    "* Trabajo Final 25%\n"
   ]
  },
  {
   "cell_type": "markdown",
   "metadata": {},
   "source": []
  },
  {
   "cell_type": "markdown",
   "metadata": {},
   "source": []
  }
 ],
 "metadata": {
  "kernelspec": {
   "display_name": "es_tf27",
   "language": "python",
   "name": "python3"
  },
  "language_info": {
   "codemirror_mode": {
    "name": "ipython",
    "version": 3
   },
   "file_extension": ".py",
   "mimetype": "text/x-python",
   "name": "python",
   "nbconvert_exporter": "python",
   "pygments_lexer": "ipython3",
   "version": "3.8.5"
  },
  "orig_nbformat": 4,
  "vscode": {
   "interpreter": {
    "hash": "c6b0be8ac2a13bbd3b02aa547ccc5a3e5e0876834d4e8b778eb84ebe3cdaca80"
   }
  }
 },
 "nbformat": 4,
 "nbformat_minor": 2
}
